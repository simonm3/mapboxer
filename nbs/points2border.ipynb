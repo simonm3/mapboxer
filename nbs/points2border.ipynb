{
 "cells": [
  {
   "cell_type": "code",
   "execution_count": null,
   "metadata": {},
   "outputs": [],
   "source": [
    "from ipstartup import *\n",
    "import geopandas as gpd\n",
    "from mapboxer import Map\n",
    "from mapboxer.elections import get\n",
    "from mapboxer.utils import replace_quotes, iframe, points2border"
   ]
  },
  {
   "cell_type": "code",
   "execution_count": null,
   "metadata": {},
   "outputs": [],
   "source": [
    "# get voter data\n",
    "voters = pd.read_csv(\"../data/voters.csv\")\n",
    "border = voters = voters[voters.longitude.notnull() & voters.latitude.notnull()]\n",
    "voters = voters.rename(columns=dict(localauthorityname=\"authority\", pollingdistrictname=\"pd\", longitude=\"lon\", latitude=\"lat\"))\n",
    "replace_quotes(voters)\n",
    "voters = gpd.GeoDataFrame(voters, geometry=gpd.points_from_xy(voters.lon, voters.lat))"
   ]
  },
  {
   "cell_type": "code",
   "execution_count": null,
   "metadata": {},
   "outputs": [],
   "source": [
    "# get borders\n",
    "pds = points2border(voters, [\"authority\", \"wardname\", \"pd\"])"
   ]
  },
  {
   "cell_type": "code",
   "execution_count": null,
   "metadata": {},
   "outputs": [],
   "source": [
    "# clip to constituency\n",
    "constituencies = get.constituencies()\n",
    "constituencies = constituencies[constituencies.const==\"West Dorset\"]\n",
    "border = constituencies.dissolve(\"const\")\n",
    "pds = gpd.clip(pds, border).reset_index()"
   ]
  },
  {
   "cell_type": "code",
   "execution_count": null,
   "metadata": {},
   "outputs": [],
   "source": [
    "# derived data and minimise\n",
    "wards = pds.dissolve(by=[\"authority\", \"wardname\"])[[\"geometry\"]]\n",
    "pds_c = pds.copy()[[\"pd\", \"geometry\"]]\n",
    "pds_c.geometry = pds_c.centroid\n",
    "pds = pds[[\"geometry\"]]"
   ]
  },
  {
   "cell_type": "markdown",
   "metadata": {},
   "source": [
    "# map"
   ]
  },
  {
   "cell_type": "code",
   "execution_count": null,
   "metadata": {},
   "outputs": [],
   "source": [
    "m = Map()\n",
    "m.center = [-2.58, 50.7977]\n",
    "m.zoom = 10\n",
    "\n",
    "m.add_source(\"wards\", wards)\n",
    "m.add_source(\"pds\", pds)\n",
    "m.add_source(\"pds_c\", pds_c)\n",
    "\n",
    "m.add_layer(\"wards\", type=\"line\", source=\"wards\", paint=dict(line_width=3))\n",
    "m.add_layer(\"Polling_district\", type=\"line\", source=\"pds\")\n",
    "m.add_layer(\"PD_names\", type=\"symbol\", source=\"pds_c\", property=\"pd\")\n",
    "m.add_layer_selector()\n",
    "m.title = \"Polling district and ward boundaries generated from a list of geocoded voters\"\n",
    "iframe(m.html())"
   ]
  },
  {
   "cell_type": "code",
   "execution_count": null,
   "metadata": {},
   "outputs": [],
   "source": [
    "m.save(\"pollingdistricts\")"
   ]
  },
  {
   "cell_type": "code",
   "execution_count": null,
   "metadata": {},
   "outputs": [],
   "source": []
  }
 ],
 "metadata": {
  "jupytext": {
   "formats": "ipynb,py:light"
  },
  "kernelspec": {
   "display_name": "Python 3",
   "language": "python",
   "name": "python3"
  },
  "language_info": {
   "codemirror_mode": {
    "name": "ipython",
    "version": 3
   },
   "file_extension": ".py",
   "mimetype": "text/x-python",
   "name": "python",
   "nbconvert_exporter": "python",
   "pygments_lexer": "ipython3",
   "version": "3.7.6"
  }
 },
 "nbformat": 4,
 "nbformat_minor": 4
}
