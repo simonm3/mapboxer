{
 "cells": [
  {
   "cell_type": "code",
   "execution_count": null,
   "metadata": {},
   "outputs": [],
   "source": [
    "from ipstartup import *\n",
    "import geopandas as gpd\n",
    "from shapely.geometry import Polygon, MultiPoint, LineString, MultiPolygon\n",
    "from mapboxer import Map\n",
    "from mapboxer.utils import replace_quotes, iframe"
   ]
  },
  {
   "cell_type": "code",
   "execution_count": null,
   "metadata": {},
   "outputs": [],
   "source": [
    "df = pd.read_csv(r\"C:\\Users\\simon\\Downloads\\connect_data_with_geocodes.csv\")\n",
    "df = df[df.longitude.notnull() & df.latitude.notnull()]\n",
    "df = df.rename(columns=dict(localauthorityname=\"auth\", pollingdistrictname=\"pd\", longitude=\"lon\", latitude=\"lat\"))\n",
    "replace_quotes(df)\n",
    "df = df[df.wardname.str.startswith(\"Dorchester\")]\n",
    "df.head(1)"
   ]
  },
  {
   "cell_type": "code",
   "execution_count": null,
   "metadata": {},
   "outputs": [],
   "source": [
    "import numpy as np\n",
    "import matplotlib.pyplot as plt\n",
    "from scipy.spatial import Voronoi, voronoi_plot_2d\n",
    "\n",
    "# test data\n",
    "np.random.seed(0)\n",
    "points = np.random.rand(15,2)\n",
    "df = pd.DataFrame(points, columns=[\"x\", \"y\"])\n",
    "df.loc[df.x<.2, \"ward\"] = \"red\"\n",
    "df.loc[df.x>.8, \"ward\"] = \"yellow\"\n",
    "df.ward = df.ward.fillna(\"green\")\n",
    "df = gpd.GeoDataFrame(df, geometry=gpd.points_from_xy(df.x, df.y))\n",
    "dfborder = MultiPoint([p for p in df.geometry]).convex_hull\n",
    "\n",
    "# add extra points\n",
    "points = np.append(points, [[999,999], [-999,999], [999,-999], [-999,-999]], axis = 0)\n",
    "\n",
    "# voroni regions\n",
    "vor = Voronoi(points)\n",
    "df[\"geometry\"] = [Polygon(vor.vertices[vor.regions[i]]) for i in vor.point_region[:-4]]\n",
    "\n",
    "# dissolve and clip\n",
    "wards = vr.dissolve(by=\"ward\")\n",
    "clipped = gpd.clip(wards, dfborder).reset_index()\n",
    "\n",
    "for i,row in clipped.iterrows():\n",
    "    if isinstance(row.geometry, MultiPolygon):\n",
    "        for x in row.geometry:\n",
    "            plt.fill(*x.exterior.xy, color=row.ward)\n",
    "    else:\n",
    "        plt.fill(*row.geometry.exterior.xy, color=row.ward)\n",
    "    \n",
    "plt.show()"
   ]
  },
  {
   "cell_type": "code",
   "execution_count": null,
   "metadata": {},
   "outputs": [],
   "source": [
    "# check no overlap in polys\n",
    "df = pd.DataFrame(df, columns=[\"auth\", \"wardname\", \"pd\", \"lon\", \"lat\"])\n",
    "gdf = gpd.GeoDataFrame(df, geometry=gpd.points_from_xy(df.lon, df.lat))\n",
    "for i, row in df.iterrows():\n",
    "    if p.contains(row.geometry):\n",
    "        print(i)"
   ]
  },
  {
   "cell_type": "code",
   "execution_count": null,
   "metadata": {},
   "outputs": [],
   "source": [
    "# add crop area lines to lines\n",
    "# polygonise\n",
    "# look up regionpoint"
   ]
  },
  {
   "cell_type": "code",
   "execution_count": null,
   "metadata": {},
   "outputs": [],
   "source": [
    "m = Map()\n",
    "m.center = [-1.7083, 52.1917]\n",
    "m.zoom = 10\n",
    "m.add_source(\"wards\", gdf)\n",
    "m.add_layer(\"wards\", type=\"line\", source=\"wards\")\n",
    "iframe(m.html())"
   ]
  },
  {
   "cell_type": "code",
   "execution_count": null,
   "metadata": {},
   "outputs": [],
   "source": []
  }
 ],
 "metadata": {
  "jupytext": {
   "formats": "ipynb,py:light"
  },
  "kernelspec": {
   "display_name": "Python 3",
   "language": "python",
   "name": "python3"
  },
  "language_info": {
   "codemirror_mode": {
    "name": "ipython",
    "version": 3
   },
   "file_extension": ".py",
   "mimetype": "text/x-python",
   "name": "python",
   "nbconvert_exporter": "python",
   "pygments_lexer": "ipython3",
   "version": "3.7.6"
  }
 },
 "nbformat": 4,
 "nbformat_minor": 4
}
