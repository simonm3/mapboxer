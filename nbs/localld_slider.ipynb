{
 "cells": [
  {
   "cell_type": "code",
   "execution_count": null,
   "metadata": {},
   "outputs": [],
   "source": [
    "from ipstartup import *\n",
    "import geopandas as gpd\n",
    "import plotly.express as px\n",
    "from pymapbox.elections import get, clean, show\n",
    "from pymapbox.utils import iframe\n",
    "from pymapbox import Twomaps"
   ]
  },
  {
   "cell_type": "code",
   "execution_count": null,
   "metadata": {},
   "outputs": [],
   "source": [
    "const, constcentres = clean.general()"
   ]
  },
  {
   "cell_type": "code",
   "execution_count": null,
   "metadata": {},
   "outputs": [],
   "source": [
    "year1=2011\n",
    "wards, wardcentres = clean.local(year1)\n",
    "m1 = show.get_map(wards, wardcentres, const, constcentres)"
   ]
  },
  {
   "cell_type": "code",
   "execution_count": null,
   "metadata": {},
   "outputs": [],
   "source": [
    "year2=2015\n",
    "wards, wardcentres = clean.local(year2)\n",
    "m2 = show.get_map(wards, wardcentres, const, constcentres)"
   ]
  },
  {
   "cell_type": "code",
   "execution_count": null,
   "metadata": {},
   "outputs": [],
   "source": [
    "m1.title = f\"Libdem%winner for local elections {year2} (left of slider is {year1})\"\n",
    "s = Twomaps(m1, m2, \"slider\")\n",
    "iframe(s.html())"
   ]
  },
  {
   "cell_type": "code",
   "execution_count": null,
   "metadata": {},
   "outputs": [],
   "source": [
    "s.save(\"localld_slider2015\")"
   ]
  },
  {
   "cell_type": "code",
   "execution_count": null,
   "metadata": {},
   "outputs": [],
   "source": [
    "from yatl import A\n",
    "A(\"hhh\").xml()"
   ]
  }
 ],
 "metadata": {
  "jupytext": {
   "formats": "ipynb,py:light"
  },
  "kernelspec": {
   "display_name": "Python 3",
   "language": "python",
   "name": "python3"
  },
  "language_info": {
   "codemirror_mode": {
    "name": "ipython",
    "version": 3
   },
   "file_extension": ".py",
   "mimetype": "text/x-python",
   "name": "python",
   "nbconvert_exporter": "python",
   "pygments_lexer": "ipython3",
   "version": "3.7.6"
  }
 },
 "nbformat": 4,
 "nbformat_minor": 4
}
