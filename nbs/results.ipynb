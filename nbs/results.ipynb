{
 "cells": [
  {
   "cell_type": "code",
   "execution_count": 1,
   "metadata": {},
   "outputs": [
    {
     "name": "stderr",
     "output_type": "stream",
     "text": [
      "[root:32:INFO]:logging started from c:\\users\\simon\\onedrive\\documents\\py\\live\\utils\\defaultlog.py (time=Aug-12 20:46 MainProcess)\n"
     ]
    },
    {
     "data": {
      "text/html": [
       "<style>audio{display:none}</style>"
      ],
      "text/plain": [
       "<IPython.core.display.HTML object>"
      ]
     },
     "metadata": {},
     "output_type": "display_data"
    }
   ],
   "source": [
    "from ipstartup import *\n",
    "from mapboxer.elections import get"
   ]
  },
  {
   "cell_type": "markdown",
   "metadata": {},
   "source": [
    "# get data"
   ]
  },
  {
   "cell_type": "code",
   "execution_count": 5,
   "metadata": {},
   "outputs": [
    {
     "name": "stderr",
     "output_type": "stream",
     "text": [
      "[cellevents:43:INFO]:starting (time=Aug-12 20:46 MainProcess)\n"
     ]
    },
    {
     "data": {
      "text/html": [
       "<div>\n",
       "<style scoped>\n",
       "    .dataframe tbody tr th:only-of-type {\n",
       "        vertical-align: middle;\n",
       "    }\n",
       "\n",
       "    .dataframe tbody tr th {\n",
       "        vertical-align: top;\n",
       "    }\n",
       "\n",
       "    .dataframe thead th {\n",
       "        text-align: right;\n",
       "    }\n",
       "</style>\n",
       "<table border=\"1\" class=\"dataframe\">\n",
       "  <thead>\n",
       "    <tr style=\"text-align: right;\">\n",
       "      <th></th>\n",
       "      <th>authority</th>\n",
       "      <th>wardname</th>\n",
       "      <th>year</th>\n",
       "      <th>party</th>\n",
       "      <th>votes</th>\n",
       "    </tr>\n",
       "  </thead>\n",
       "  <tbody>\n",
       "    <tr>\n",
       "      <th>0</th>\n",
       "      <td>Adur</td>\n",
       "      <td>Buckingham</td>\n",
       "      <td>2010</td>\n",
       "      <td>C</td>\n",
       "      <td>1301</td>\n",
       "    </tr>\n",
       "    <tr>\n",
       "      <th>1</th>\n",
       "      <td>Adur</td>\n",
       "      <td>Buckingham</td>\n",
       "      <td>2010</td>\n",
       "      <td>LD</td>\n",
       "      <td>828</td>\n",
       "    </tr>\n",
       "    <tr>\n",
       "      <th>2</th>\n",
       "      <td>Adur</td>\n",
       "      <td>Buckingham</td>\n",
       "      <td>2010</td>\n",
       "      <td>UKIP</td>\n",
       "      <td>197</td>\n",
       "    </tr>\n",
       "    <tr>\n",
       "      <th>3</th>\n",
       "      <td>Adur</td>\n",
       "      <td>Churchill</td>\n",
       "      <td>2010</td>\n",
       "      <td>C</td>\n",
       "      <td>885</td>\n",
       "    </tr>\n",
       "    <tr>\n",
       "      <th>4</th>\n",
       "      <td>Adur</td>\n",
       "      <td>Churchill</td>\n",
       "      <td>2010</td>\n",
       "      <td>LD</td>\n",
       "      <td>762</td>\n",
       "    </tr>\n",
       "  </tbody>\n",
       "</table>\n",
       "</div>"
      ],
      "text/plain": [
       "  authority    wardname  year party  votes\n",
       "0      Adur  Buckingham  2010     C   1301\n",
       "1      Adur  Buckingham  2010    LD    828\n",
       "2      Adur  Buckingham  2010  UKIP    197\n",
       "3      Adur   Churchill  2010     C    885\n",
       "4      Adur   Churchill  2010    LD    762"
      ]
     },
     "execution_count": 5,
     "metadata": {},
     "output_type": "execute_result"
    },
    {
     "name": "stdout",
     "output_type": "stream",
     "text": [
      "time: 551 ms\n"
     ]
    }
   ],
   "source": [
    "allres = []\n",
    "for year in range(2010, 2016):\n",
    "    allres.append(get.res_local(year))\n",
    "allres = pd.concat(allres)\n",
    "allres.head()"
   ]
  },
  {
   "cell_type": "markdown",
   "metadata": {},
   "source": [
    "# tables"
   ]
  },
  {
   "cell_type": "code",
   "execution_count": 6,
   "metadata": {},
   "outputs": [
    {
     "name": "stderr",
     "output_type": "stream",
     "text": [
      "[cellevents:43:INFO]:starting (time=Aug-12 20:46 MainProcess)\n"
     ]
    },
    {
     "data": {
      "text/plain": [
       "'candidates'"
      ]
     },
     "metadata": {},
     "output_type": "display_data"
    },
    {
     "data": {
      "text/html": [
       "<style  type=\"text/css\" >\n",
       "</style><table id=\"T_9362233e_dcd4_11ea_9b3d_b268e6288d41\" ><thead>    <tr>        <th class=\"index_name level0\" >year</th>        <th class=\"col_heading level0 col0\" >2010</th>        <th class=\"col_heading level0 col1\" >2011</th>        <th class=\"col_heading level0 col2\" >2012</th>        <th class=\"col_heading level0 col3\" >2013</th>        <th class=\"col_heading level0 col4\" >2014</th>        <th class=\"col_heading level0 col5\" >2015</th>        <th class=\"col_heading level0 col6\" >total</th>    </tr>    <tr>        <th class=\"index_name level0\" >party</th>        <th class=\"blank\" ></th>        <th class=\"blank\" ></th>        <th class=\"blank\" ></th>        <th class=\"blank\" ></th>        <th class=\"blank\" ></th>        <th class=\"blank\" ></th>        <th class=\"blank\" ></th>    </tr></thead><tbody>\n",
       "                <tr>\n",
       "                        <th id=\"T_9362233e_dcd4_11ea_9b3d_b268e6288d41level0_row0\" class=\"row_heading level0 row0\" >C</th>\n",
       "                        <td id=\"T_9362233e_dcd4_11ea_9b3d_b268e6288d41row0_col0\" class=\"data row0 col0\" >4,204</td>\n",
       "                        <td id=\"T_9362233e_dcd4_11ea_9b3d_b268e6288d41row0_col1\" class=\"data row0 col1\" >8,843</td>\n",
       "                        <td id=\"T_9362233e_dcd4_11ea_9b3d_b268e6288d41row0_col2\" class=\"data row0 col2\" >3,274</td>\n",
       "                        <td id=\"T_9362233e_dcd4_11ea_9b3d_b268e6288d41row0_col3\" class=\"data row0 col3\" >2,274</td>\n",
       "                        <td id=\"T_9362233e_dcd4_11ea_9b3d_b268e6288d41row0_col4\" class=\"data row0 col4\" >4,149</td>\n",
       "                        <td id=\"T_9362233e_dcd4_11ea_9b3d_b268e6288d41row0_col5\" class=\"data row0 col5\" >8,670</td>\n",
       "                        <td id=\"T_9362233e_dcd4_11ea_9b3d_b268e6288d41row0_col6\" class=\"data row0 col6\" >31,414</td>\n",
       "            </tr>\n",
       "            <tr>\n",
       "                        <th id=\"T_9362233e_dcd4_11ea_9b3d_b268e6288d41level0_row1\" class=\"row_heading level0 row1\" >Grn</th>\n",
       "                        <td id=\"T_9362233e_dcd4_11ea_9b3d_b268e6288d41row1_col0\" class=\"data row1 col0\" >1,645</td>\n",
       "                        <td id=\"T_9362233e_dcd4_11ea_9b3d_b268e6288d41row1_col1\" class=\"data row1 col1\" >1,590</td>\n",
       "                        <td id=\"T_9362233e_dcd4_11ea_9b3d_b268e6288d41row1_col2\" class=\"data row1 col2\" >1,017</td>\n",
       "                        <td id=\"T_9362233e_dcd4_11ea_9b3d_b268e6288d41row1_col3\" class=\"data row1 col3\" >890</td>\n",
       "                        <td id=\"T_9362233e_dcd4_11ea_9b3d_b268e6288d41row1_col4\" class=\"data row1 col4\" >1,875</td>\n",
       "                        <td id=\"T_9362233e_dcd4_11ea_9b3d_b268e6288d41row1_col5\" class=\"data row1 col5\" >3,538</td>\n",
       "                        <td id=\"T_9362233e_dcd4_11ea_9b3d_b268e6288d41row1_col6\" class=\"data row1 col6\" >10,555</td>\n",
       "            </tr>\n",
       "            <tr>\n",
       "                        <th id=\"T_9362233e_dcd4_11ea_9b3d_b268e6288d41level0_row2\" class=\"row_heading level0 row2\" >LD</th>\n",
       "                        <td id=\"T_9362233e_dcd4_11ea_9b3d_b268e6288d41row2_col0\" class=\"data row2 col0\" >3,494</td>\n",
       "                        <td id=\"T_9362233e_dcd4_11ea_9b3d_b268e6288d41row2_col1\" class=\"data row2 col1\" >5,608</td>\n",
       "                        <td id=\"T_9362233e_dcd4_11ea_9b3d_b268e6288d41row2_col2\" class=\"data row2 col2\" >2,278</td>\n",
       "                        <td id=\"T_9362233e_dcd4_11ea_9b3d_b268e6288d41row2_col3\" class=\"data row2 col3\" >1,761</td>\n",
       "                        <td id=\"T_9362233e_dcd4_11ea_9b3d_b268e6288d41row2_col4\" class=\"data row2 col4\" >2,935</td>\n",
       "                        <td id=\"T_9362233e_dcd4_11ea_9b3d_b268e6288d41row2_col5\" class=\"data row2 col5\" >4,300</td>\n",
       "                        <td id=\"T_9362233e_dcd4_11ea_9b3d_b268e6288d41row2_col6\" class=\"data row2 col6\" >20,376</td>\n",
       "            </tr>\n",
       "            <tr>\n",
       "                        <th id=\"T_9362233e_dcd4_11ea_9b3d_b268e6288d41level0_row3\" class=\"row_heading level0 row3\" >Lab</th>\n",
       "                        <td id=\"T_9362233e_dcd4_11ea_9b3d_b268e6288d41row3_col0\" class=\"data row3 col0\" >4,019</td>\n",
       "                        <td id=\"T_9362233e_dcd4_11ea_9b3d_b268e6288d41row3_col1\" class=\"data row3 col1\" >6,810</td>\n",
       "                        <td id=\"T_9362233e_dcd4_11ea_9b3d_b268e6288d41row3_col2\" class=\"data row3 col2\" >3,685</td>\n",
       "                        <td id=\"T_9362233e_dcd4_11ea_9b3d_b268e6288d41row3_col3\" class=\"data row3 col3\" >2,200</td>\n",
       "                        <td id=\"T_9362233e_dcd4_11ea_9b3d_b268e6288d41row3_col4\" class=\"data row3 col4\" >4,195</td>\n",
       "                        <td id=\"T_9362233e_dcd4_11ea_9b3d_b268e6288d41row3_col5\" class=\"data row3 col5\" >6,995</td>\n",
       "                        <td id=\"T_9362233e_dcd4_11ea_9b3d_b268e6288d41row3_col6\" class=\"data row3 col6\" >27,904</td>\n",
       "            </tr>\n",
       "            <tr>\n",
       "                        <th id=\"T_9362233e_dcd4_11ea_9b3d_b268e6288d41level0_row4\" class=\"row_heading level0 row4\" >UKIP</th>\n",
       "                        <td id=\"T_9362233e_dcd4_11ea_9b3d_b268e6288d41row4_col0\" class=\"data row4 col0\" >626</td>\n",
       "                        <td id=\"T_9362233e_dcd4_11ea_9b3d_b268e6288d41row4_col1\" class=\"data row4 col1\" >1,230</td>\n",
       "                        <td id=\"T_9362233e_dcd4_11ea_9b3d_b268e6288d41row4_col2\" class=\"data row4 col2\" >744</td>\n",
       "                        <td id=\"T_9362233e_dcd4_11ea_9b3d_b268e6288d41row4_col3\" class=\"data row4 col3\" >1,738</td>\n",
       "                        <td id=\"T_9362233e_dcd4_11ea_9b3d_b268e6288d41row4_col4\" class=\"data row4 col4\" >2,196</td>\n",
       "                        <td id=\"T_9362233e_dcd4_11ea_9b3d_b268e6288d41row4_col5\" class=\"data row4 col5\" >4,098</td>\n",
       "                        <td id=\"T_9362233e_dcd4_11ea_9b3d_b268e6288d41row4_col6\" class=\"data row4 col6\" >10,632</td>\n",
       "            </tr>\n",
       "            <tr>\n",
       "                        <th id=\"T_9362233e_dcd4_11ea_9b3d_b268e6288d41level0_row5\" class=\"row_heading level0 row5\" >other</th>\n",
       "                        <td id=\"T_9362233e_dcd4_11ea_9b3d_b268e6288d41row5_col0\" class=\"data row5 col0\" >2,027</td>\n",
       "                        <td id=\"T_9362233e_dcd4_11ea_9b3d_b268e6288d41row5_col1\" class=\"data row5 col1\" >3,061</td>\n",
       "                        <td id=\"T_9362233e_dcd4_11ea_9b3d_b268e6288d41row5_col2\" class=\"data row5 col2\" >3,616</td>\n",
       "                        <td id=\"T_9362233e_dcd4_11ea_9b3d_b268e6288d41row5_col3\" class=\"data row5 col3\" >1,260</td>\n",
       "                        <td id=\"T_9362233e_dcd4_11ea_9b3d_b268e6288d41row5_col4\" class=\"data row5 col4\" >1,618</td>\n",
       "                        <td id=\"T_9362233e_dcd4_11ea_9b3d_b268e6288d41row5_col5\" class=\"data row5 col5\" >2,985</td>\n",
       "                        <td id=\"T_9362233e_dcd4_11ea_9b3d_b268e6288d41row5_col6\" class=\"data row5 col6\" >14,567</td>\n",
       "            </tr>\n",
       "    </tbody></table>"
      ],
      "text/plain": [
       "<pandas.io.formats.style.Styler at 0x2c65a6b1a88>"
      ]
     },
     "execution_count": 6,
     "metadata": {},
     "output_type": "execute_result"
    },
    {
     "name": "stdout",
     "output_type": "stream",
     "text": [
      "time: 195 ms\n"
     ]
    }
   ],
   "source": [
    "df = allres.copy()\n",
    "df.loc[~df.party.isin([\"C\", \"LD\", \"UKIP\", \"Lab\", \"Grn\"]), \"party\"] = \"other\"\n",
    "cands = pd.crosstab(df.party, df.year, df.wardname, aggfunc=\"count\")\n",
    "cands[\"total\"] = cands.sum(axis=1)\n",
    "d(\"candidates\")\n",
    "cands.style.format(\"{:,}\")"
   ]
  },
  {
   "cell_type": "code",
   "execution_count": 7,
   "metadata": {},
   "outputs": [
    {
     "name": "stderr",
     "output_type": "stream",
     "text": [
      "[cellevents:43:INFO]:starting (time=Aug-12 20:46 MainProcess)\n",
      "[numexpr.utils:141:INFO]:NumExpr defaulting to 8 threads. (time=Aug-12 20:46 MainProcess)\n"
     ]
    },
    {
     "data": {
      "text/plain": [
       "'missing candidates'"
      ]
     },
     "metadata": {},
     "output_type": "display_data"
    },
    {
     "data": {
      "text/html": [
       "<style  type=\"text/css\" >\n",
       "</style><table id=\"T_95f4a652_dcd4_11ea_97e0_b268e6288d41\" ><thead>    <tr>        <th class=\"index_name level0\" >year</th>        <th class=\"col_heading level0 col0\" >2010</th>        <th class=\"col_heading level0 col1\" >2011</th>        <th class=\"col_heading level0 col2\" >2012</th>        <th class=\"col_heading level0 col3\" >2013</th>        <th class=\"col_heading level0 col4\" >2014</th>        <th class=\"col_heading level0 col5\" >2015</th>        <th class=\"col_heading level0 col6\" >total</th>    </tr>    <tr>        <th class=\"index_name level0\" >party</th>        <th class=\"blank\" ></th>        <th class=\"blank\" ></th>        <th class=\"blank\" ></th>        <th class=\"blank\" ></th>        <th class=\"blank\" ></th>        <th class=\"blank\" ></th>        <th class=\"blank\" ></th>    </tr></thead><tbody>\n",
       "                <tr>\n",
       "                        <th id=\"T_95f4a652_dcd4_11ea_97e0_b268e6288d41level0_row0\" class=\"row_heading level0 row0\" >C</th>\n",
       "                        <td id=\"T_95f4a652_dcd4_11ea_97e0_b268e6288d41row0_col0\" class=\"data row0 col0\" >0</td>\n",
       "                        <td id=\"T_95f4a652_dcd4_11ea_97e0_b268e6288d41row0_col1\" class=\"data row0 col1\" >0</td>\n",
       "                        <td id=\"T_95f4a652_dcd4_11ea_97e0_b268e6288d41row0_col2\" class=\"data row0 col2\" >411</td>\n",
       "                        <td id=\"T_95f4a652_dcd4_11ea_97e0_b268e6288d41row0_col3\" class=\"data row0 col3\" >0</td>\n",
       "                        <td id=\"T_95f4a652_dcd4_11ea_97e0_b268e6288d41row0_col4\" class=\"data row0 col4\" >46</td>\n",
       "                        <td id=\"T_95f4a652_dcd4_11ea_97e0_b268e6288d41row0_col5\" class=\"data row0 col5\" >0</td>\n",
       "                        <td id=\"T_95f4a652_dcd4_11ea_97e0_b268e6288d41row0_col6\" class=\"data row0 col6\" >0</td>\n",
       "            </tr>\n",
       "            <tr>\n",
       "                        <th id=\"T_95f4a652_dcd4_11ea_97e0_b268e6288d41level0_row1\" class=\"row_heading level0 row1\" >Grn</th>\n",
       "                        <td id=\"T_95f4a652_dcd4_11ea_97e0_b268e6288d41row1_col0\" class=\"data row1 col0\" >2,559</td>\n",
       "                        <td id=\"T_95f4a652_dcd4_11ea_97e0_b268e6288d41row1_col1\" class=\"data row1 col1\" >7,253</td>\n",
       "                        <td id=\"T_95f4a652_dcd4_11ea_97e0_b268e6288d41row1_col2\" class=\"data row1 col2\" >2,668</td>\n",
       "                        <td id=\"T_95f4a652_dcd4_11ea_97e0_b268e6288d41row1_col3\" class=\"data row1 col3\" >1,384</td>\n",
       "                        <td id=\"T_95f4a652_dcd4_11ea_97e0_b268e6288d41row1_col4\" class=\"data row1 col4\" >2,320</td>\n",
       "                        <td id=\"T_95f4a652_dcd4_11ea_97e0_b268e6288d41row1_col5\" class=\"data row1 col5\" >5,132</td>\n",
       "                        <td id=\"T_95f4a652_dcd4_11ea_97e0_b268e6288d41row1_col6\" class=\"data row1 col6\" >20,859</td>\n",
       "            </tr>\n",
       "            <tr>\n",
       "                        <th id=\"T_95f4a652_dcd4_11ea_97e0_b268e6288d41level0_row2\" class=\"row_heading level0 row2\" >LD</th>\n",
       "                        <td id=\"T_95f4a652_dcd4_11ea_97e0_b268e6288d41row2_col0\" class=\"data row2 col0\" >710</td>\n",
       "                        <td id=\"T_95f4a652_dcd4_11ea_97e0_b268e6288d41row2_col1\" class=\"data row2 col1\" >3,235</td>\n",
       "                        <td id=\"T_95f4a652_dcd4_11ea_97e0_b268e6288d41row2_col2\" class=\"data row2 col2\" >1,407</td>\n",
       "                        <td id=\"T_95f4a652_dcd4_11ea_97e0_b268e6288d41row2_col3\" class=\"data row2 col3\" >513</td>\n",
       "                        <td id=\"T_95f4a652_dcd4_11ea_97e0_b268e6288d41row2_col4\" class=\"data row2 col4\" >1,260</td>\n",
       "                        <td id=\"T_95f4a652_dcd4_11ea_97e0_b268e6288d41row2_col5\" class=\"data row2 col5\" >4,370</td>\n",
       "                        <td id=\"T_95f4a652_dcd4_11ea_97e0_b268e6288d41row2_col6\" class=\"data row2 col6\" >11,038</td>\n",
       "            </tr>\n",
       "            <tr>\n",
       "                        <th id=\"T_95f4a652_dcd4_11ea_97e0_b268e6288d41level0_row3\" class=\"row_heading level0 row3\" >Lab</th>\n",
       "                        <td id=\"T_95f4a652_dcd4_11ea_97e0_b268e6288d41row3_col0\" class=\"data row3 col0\" >185</td>\n",
       "                        <td id=\"T_95f4a652_dcd4_11ea_97e0_b268e6288d41row3_col1\" class=\"data row3 col1\" >2,033</td>\n",
       "                        <td id=\"T_95f4a652_dcd4_11ea_97e0_b268e6288d41row3_col2\" class=\"data row3 col2\" >0</td>\n",
       "                        <td id=\"T_95f4a652_dcd4_11ea_97e0_b268e6288d41row3_col3\" class=\"data row3 col3\" >74</td>\n",
       "                        <td id=\"T_95f4a652_dcd4_11ea_97e0_b268e6288d41row3_col4\" class=\"data row3 col4\" >0</td>\n",
       "                        <td id=\"T_95f4a652_dcd4_11ea_97e0_b268e6288d41row3_col5\" class=\"data row3 col5\" >1,675</td>\n",
       "                        <td id=\"T_95f4a652_dcd4_11ea_97e0_b268e6288d41row3_col6\" class=\"data row3 col6\" >3,510</td>\n",
       "            </tr>\n",
       "            <tr>\n",
       "                        <th id=\"T_95f4a652_dcd4_11ea_97e0_b268e6288d41level0_row4\" class=\"row_heading level0 row4\" >UKIP</th>\n",
       "                        <td id=\"T_95f4a652_dcd4_11ea_97e0_b268e6288d41row4_col0\" class=\"data row4 col0\" >3,578</td>\n",
       "                        <td id=\"T_95f4a652_dcd4_11ea_97e0_b268e6288d41row4_col1\" class=\"data row4 col1\" >7,613</td>\n",
       "                        <td id=\"T_95f4a652_dcd4_11ea_97e0_b268e6288d41row4_col2\" class=\"data row4 col2\" >2,941</td>\n",
       "                        <td id=\"T_95f4a652_dcd4_11ea_97e0_b268e6288d41row4_col3\" class=\"data row4 col3\" >536</td>\n",
       "                        <td id=\"T_95f4a652_dcd4_11ea_97e0_b268e6288d41row4_col4\" class=\"data row4 col4\" >1,999</td>\n",
       "                        <td id=\"T_95f4a652_dcd4_11ea_97e0_b268e6288d41row4_col5\" class=\"data row4 col5\" >4,572</td>\n",
       "                        <td id=\"T_95f4a652_dcd4_11ea_97e0_b268e6288d41row4_col6\" class=\"data row4 col6\" >20,782</td>\n",
       "            </tr>\n",
       "            <tr>\n",
       "                        <th id=\"T_95f4a652_dcd4_11ea_97e0_b268e6288d41level0_row5\" class=\"row_heading level0 row5\" >other</th>\n",
       "                        <td id=\"T_95f4a652_dcd4_11ea_97e0_b268e6288d41row5_col0\" class=\"data row5 col0\" >2,177</td>\n",
       "                        <td id=\"T_95f4a652_dcd4_11ea_97e0_b268e6288d41row5_col1\" class=\"data row5 col1\" >5,782</td>\n",
       "                        <td id=\"T_95f4a652_dcd4_11ea_97e0_b268e6288d41row5_col2\" class=\"data row5 col2\" >69</td>\n",
       "                        <td id=\"T_95f4a652_dcd4_11ea_97e0_b268e6288d41row5_col3\" class=\"data row5 col3\" >1,014</td>\n",
       "                        <td id=\"T_95f4a652_dcd4_11ea_97e0_b268e6288d41row5_col4\" class=\"data row5 col4\" >2,577</td>\n",
       "                        <td id=\"T_95f4a652_dcd4_11ea_97e0_b268e6288d41row5_col5\" class=\"data row5 col5\" >5,685</td>\n",
       "                        <td id=\"T_95f4a652_dcd4_11ea_97e0_b268e6288d41row5_col6\" class=\"data row5 col6\" >16,847</td>\n",
       "            </tr>\n",
       "    </tbody></table>"
      ],
      "text/plain": [
       "<pandas.io.formats.style.Styler at 0x2c6592e1308>"
      ]
     },
     "execution_count": 7,
     "metadata": {},
     "output_type": "execute_result"
    },
    {
     "name": "stdout",
     "output_type": "stream",
     "text": [
      "time: 44 ms\n"
     ]
    }
   ],
   "source": [
    "missing = cands.max(axis=0)-cands\n",
    "d(\"missing candidates\")\n",
    "missing.style.format(\"{:,}\")"
   ]
  },
  {
   "cell_type": "code",
   "execution_count": 8,
   "metadata": {},
   "outputs": [
    {
     "name": "stderr",
     "output_type": "stream",
     "text": [
      "[cellevents:43:INFO]:starting (time=Aug-12 20:47 MainProcess)\n"
     ]
    },
    {
     "data": {
      "text/plain": [
       "'missing candidates%'"
      ]
     },
     "metadata": {},
     "output_type": "display_data"
    },
    {
     "data": {
      "text/html": [
       "<style  type=\"text/css\" >\n",
       "</style><table id=\"T_98c29f70_dcd4_11ea_8e2f_b268e6288d41\" ><thead>    <tr>        <th class=\"index_name level0\" >year</th>        <th class=\"col_heading level0 col0\" >2010</th>        <th class=\"col_heading level0 col1\" >2011</th>        <th class=\"col_heading level0 col2\" >2012</th>        <th class=\"col_heading level0 col3\" >2013</th>        <th class=\"col_heading level0 col4\" >2014</th>        <th class=\"col_heading level0 col5\" >2015</th>        <th class=\"col_heading level0 col6\" >total</th>    </tr>    <tr>        <th class=\"index_name level0\" >party</th>        <th class=\"blank\" ></th>        <th class=\"blank\" ></th>        <th class=\"blank\" ></th>        <th class=\"blank\" ></th>        <th class=\"blank\" ></th>        <th class=\"blank\" ></th>        <th class=\"blank\" ></th>    </tr></thead><tbody>\n",
       "                <tr>\n",
       "                        <th id=\"T_98c29f70_dcd4_11ea_8e2f_b268e6288d41level0_row0\" class=\"row_heading level0 row0\" >C</th>\n",
       "                        <td id=\"T_98c29f70_dcd4_11ea_8e2f_b268e6288d41row0_col0\" class=\"data row0 col0\" >0%</td>\n",
       "                        <td id=\"T_98c29f70_dcd4_11ea_8e2f_b268e6288d41row0_col1\" class=\"data row0 col1\" >0%</td>\n",
       "                        <td id=\"T_98c29f70_dcd4_11ea_8e2f_b268e6288d41row0_col2\" class=\"data row0 col2\" >11%</td>\n",
       "                        <td id=\"T_98c29f70_dcd4_11ea_8e2f_b268e6288d41row0_col3\" class=\"data row0 col3\" >0%</td>\n",
       "                        <td id=\"T_98c29f70_dcd4_11ea_8e2f_b268e6288d41row0_col4\" class=\"data row0 col4\" >1%</td>\n",
       "                        <td id=\"T_98c29f70_dcd4_11ea_8e2f_b268e6288d41row0_col5\" class=\"data row0 col5\" >0%</td>\n",
       "                        <td id=\"T_98c29f70_dcd4_11ea_8e2f_b268e6288d41row0_col6\" class=\"data row0 col6\" >0%</td>\n",
       "            </tr>\n",
       "            <tr>\n",
       "                        <th id=\"T_98c29f70_dcd4_11ea_8e2f_b268e6288d41level0_row1\" class=\"row_heading level0 row1\" >Grn</th>\n",
       "                        <td id=\"T_98c29f70_dcd4_11ea_8e2f_b268e6288d41row1_col0\" class=\"data row1 col0\" >61%</td>\n",
       "                        <td id=\"T_98c29f70_dcd4_11ea_8e2f_b268e6288d41row1_col1\" class=\"data row1 col1\" >82%</td>\n",
       "                        <td id=\"T_98c29f70_dcd4_11ea_8e2f_b268e6288d41row1_col2\" class=\"data row1 col2\" >72%</td>\n",
       "                        <td id=\"T_98c29f70_dcd4_11ea_8e2f_b268e6288d41row1_col3\" class=\"data row1 col3\" >61%</td>\n",
       "                        <td id=\"T_98c29f70_dcd4_11ea_8e2f_b268e6288d41row1_col4\" class=\"data row1 col4\" >55%</td>\n",
       "                        <td id=\"T_98c29f70_dcd4_11ea_8e2f_b268e6288d41row1_col5\" class=\"data row1 col5\" >59%</td>\n",
       "                        <td id=\"T_98c29f70_dcd4_11ea_8e2f_b268e6288d41row1_col6\" class=\"data row1 col6\" >66%</td>\n",
       "            </tr>\n",
       "            <tr>\n",
       "                        <th id=\"T_98c29f70_dcd4_11ea_8e2f_b268e6288d41level0_row2\" class=\"row_heading level0 row2\" >LD</th>\n",
       "                        <td id=\"T_98c29f70_dcd4_11ea_8e2f_b268e6288d41row2_col0\" class=\"data row2 col0\" >17%</td>\n",
       "                        <td id=\"T_98c29f70_dcd4_11ea_8e2f_b268e6288d41row2_col1\" class=\"data row2 col1\" >37%</td>\n",
       "                        <td id=\"T_98c29f70_dcd4_11ea_8e2f_b268e6288d41row2_col2\" class=\"data row2 col2\" >38%</td>\n",
       "                        <td id=\"T_98c29f70_dcd4_11ea_8e2f_b268e6288d41row2_col3\" class=\"data row2 col3\" >23%</td>\n",
       "                        <td id=\"T_98c29f70_dcd4_11ea_8e2f_b268e6288d41row2_col4\" class=\"data row2 col4\" >30%</td>\n",
       "                        <td id=\"T_98c29f70_dcd4_11ea_8e2f_b268e6288d41row2_col5\" class=\"data row2 col5\" >50%</td>\n",
       "                        <td id=\"T_98c29f70_dcd4_11ea_8e2f_b268e6288d41row2_col6\" class=\"data row2 col6\" >35%</td>\n",
       "            </tr>\n",
       "            <tr>\n",
       "                        <th id=\"T_98c29f70_dcd4_11ea_8e2f_b268e6288d41level0_row3\" class=\"row_heading level0 row3\" >Lab</th>\n",
       "                        <td id=\"T_98c29f70_dcd4_11ea_8e2f_b268e6288d41row3_col0\" class=\"data row3 col0\" >4%</td>\n",
       "                        <td id=\"T_98c29f70_dcd4_11ea_8e2f_b268e6288d41row3_col1\" class=\"data row3 col1\" >23%</td>\n",
       "                        <td id=\"T_98c29f70_dcd4_11ea_8e2f_b268e6288d41row3_col2\" class=\"data row3 col2\" >0%</td>\n",
       "                        <td id=\"T_98c29f70_dcd4_11ea_8e2f_b268e6288d41row3_col3\" class=\"data row3 col3\" >3%</td>\n",
       "                        <td id=\"T_98c29f70_dcd4_11ea_8e2f_b268e6288d41row3_col4\" class=\"data row3 col4\" >0%</td>\n",
       "                        <td id=\"T_98c29f70_dcd4_11ea_8e2f_b268e6288d41row3_col5\" class=\"data row3 col5\" >19%</td>\n",
       "                        <td id=\"T_98c29f70_dcd4_11ea_8e2f_b268e6288d41row3_col6\" class=\"data row3 col6\" >11%</td>\n",
       "            </tr>\n",
       "            <tr>\n",
       "                        <th id=\"T_98c29f70_dcd4_11ea_8e2f_b268e6288d41level0_row4\" class=\"row_heading level0 row4\" >UKIP</th>\n",
       "                        <td id=\"T_98c29f70_dcd4_11ea_8e2f_b268e6288d41row4_col0\" class=\"data row4 col0\" >85%</td>\n",
       "                        <td id=\"T_98c29f70_dcd4_11ea_8e2f_b268e6288d41row4_col1\" class=\"data row4 col1\" >86%</td>\n",
       "                        <td id=\"T_98c29f70_dcd4_11ea_8e2f_b268e6288d41row4_col2\" class=\"data row4 col2\" >80%</td>\n",
       "                        <td id=\"T_98c29f70_dcd4_11ea_8e2f_b268e6288d41row4_col3\" class=\"data row4 col3\" >24%</td>\n",
       "                        <td id=\"T_98c29f70_dcd4_11ea_8e2f_b268e6288d41row4_col4\" class=\"data row4 col4\" >48%</td>\n",
       "                        <td id=\"T_98c29f70_dcd4_11ea_8e2f_b268e6288d41row4_col5\" class=\"data row4 col5\" >53%</td>\n",
       "                        <td id=\"T_98c29f70_dcd4_11ea_8e2f_b268e6288d41row4_col6\" class=\"data row4 col6\" >66%</td>\n",
       "            </tr>\n",
       "            <tr>\n",
       "                        <th id=\"T_98c29f70_dcd4_11ea_8e2f_b268e6288d41level0_row5\" class=\"row_heading level0 row5\" >other</th>\n",
       "                        <td id=\"T_98c29f70_dcd4_11ea_8e2f_b268e6288d41row5_col0\" class=\"data row5 col0\" >52%</td>\n",
       "                        <td id=\"T_98c29f70_dcd4_11ea_8e2f_b268e6288d41row5_col1\" class=\"data row5 col1\" >65%</td>\n",
       "                        <td id=\"T_98c29f70_dcd4_11ea_8e2f_b268e6288d41row5_col2\" class=\"data row5 col2\" >2%</td>\n",
       "                        <td id=\"T_98c29f70_dcd4_11ea_8e2f_b268e6288d41row5_col3\" class=\"data row5 col3\" >45%</td>\n",
       "                        <td id=\"T_98c29f70_dcd4_11ea_8e2f_b268e6288d41row5_col4\" class=\"data row5 col4\" >61%</td>\n",
       "                        <td id=\"T_98c29f70_dcd4_11ea_8e2f_b268e6288d41row5_col5\" class=\"data row5 col5\" >66%</td>\n",
       "                        <td id=\"T_98c29f70_dcd4_11ea_8e2f_b268e6288d41row5_col6\" class=\"data row5 col6\" >54%</td>\n",
       "            </tr>\n",
       "    </tbody></table>"
      ],
      "text/plain": [
       "<pandas.io.formats.style.Styler at 0x2c65bdd03c8>"
      ]
     },
     "execution_count": 8,
     "metadata": {},
     "output_type": "execute_result"
    },
    {
     "name": "stdout",
     "output_type": "stream",
     "text": [
      "time: 17 ms\n"
     ]
    }
   ],
   "source": [
    "d(\"missing candidates%\")\n",
    "(missing/cands.max(axis=0)).style.format(\"{:.0%}\")"
   ]
  },
  {
   "cell_type": "code",
   "execution_count": 9,
   "metadata": {
    "scrolled": true
   },
   "outputs": [
    {
     "name": "stderr",
     "output_type": "stream",
     "text": [
      "[cellevents:43:INFO]:starting (time=Aug-12 20:47 MainProcess)\n"
     ]
    },
    {
     "data": {
      "text/plain": [
       "'vote share'"
      ]
     },
     "metadata": {},
     "output_type": "display_data"
    },
    {
     "data": {
      "text/html": [
       "<style  type=\"text/css\" >\n",
       "</style><table id=\"T_997d9282_dcd4_11ea_b3c2_b268e6288d41\" ><thead>    <tr>        <th class=\"index_name level0\" >year</th>        <th class=\"col_heading level0 col0\" >2010</th>        <th class=\"col_heading level0 col1\" >2011</th>        <th class=\"col_heading level0 col2\" >2012</th>        <th class=\"col_heading level0 col3\" >2013</th>        <th class=\"col_heading level0 col4\" >2014</th>        <th class=\"col_heading level0 col5\" >2015</th>        <th class=\"col_heading level0 col6\" >total</th>    </tr>    <tr>        <th class=\"index_name level0\" >party</th>        <th class=\"blank\" ></th>        <th class=\"blank\" ></th>        <th class=\"blank\" ></th>        <th class=\"blank\" ></th>        <th class=\"blank\" ></th>        <th class=\"blank\" ></th>        <th class=\"blank\" ></th>    </tr></thead><tbody>\n",
       "                <tr>\n",
       "                        <th id=\"T_997d9282_dcd4_11ea_b3c2_b268e6288d41level0_row0\" class=\"row_heading level0 row0\" >C</th>\n",
       "                        <td id=\"T_997d9282_dcd4_11ea_b3c2_b268e6288d41row0_col0\" class=\"data row0 col0\" >34%</td>\n",
       "                        <td id=\"T_997d9282_dcd4_11ea_b3c2_b268e6288d41row0_col1\" class=\"data row0 col1\" >41%</td>\n",
       "                        <td id=\"T_997d9282_dcd4_11ea_b3c2_b268e6288d41row0_col2\" class=\"data row0 col2\" >23%</td>\n",
       "                        <td id=\"T_997d9282_dcd4_11ea_b3c2_b268e6288d41row0_col3\" class=\"data row0 col3\" >34%</td>\n",
       "                        <td id=\"T_997d9282_dcd4_11ea_b3c2_b268e6288d41row0_col4\" class=\"data row0 col4\" >28%</td>\n",
       "                        <td id=\"T_997d9282_dcd4_11ea_b3c2_b268e6288d41row0_col5\" class=\"data row0 col5\" >39%</td>\n",
       "                        <td id=\"T_997d9282_dcd4_11ea_b3c2_b268e6288d41row0_col6\" class=\"data row0 col6\" >35%</td>\n",
       "            </tr>\n",
       "            <tr>\n",
       "                        <th id=\"T_997d9282_dcd4_11ea_b3c2_b268e6288d41level0_row1\" class=\"row_heading level0 row1\" >Grn</th>\n",
       "                        <td id=\"T_997d9282_dcd4_11ea_b3c2_b268e6288d41row1_col0\" class=\"data row1 col0\" >3%</td>\n",
       "                        <td id=\"T_997d9282_dcd4_11ea_b3c2_b268e6288d41row1_col1\" class=\"data row1 col1\" >3%</td>\n",
       "                        <td id=\"T_997d9282_dcd4_11ea_b3c2_b268e6288d41row1_col2\" class=\"data row1 col2\" >3%</td>\n",
       "                        <td id=\"T_997d9282_dcd4_11ea_b3c2_b268e6288d41row1_col3\" class=\"data row1 col3\" >3%</td>\n",
       "                        <td id=\"T_997d9282_dcd4_11ea_b3c2_b268e6288d41row1_col4\" class=\"data row1 col4\" >6%</td>\n",
       "                        <td id=\"T_997d9282_dcd4_11ea_b3c2_b268e6288d41row1_col5\" class=\"data row1 col5\" >6%</td>\n",
       "                        <td id=\"T_997d9282_dcd4_11ea_b3c2_b268e6288d41row1_col6\" class=\"data row1 col6\" >4%</td>\n",
       "            </tr>\n",
       "            <tr>\n",
       "                        <th id=\"T_997d9282_dcd4_11ea_b3c2_b268e6288d41level0_row2\" class=\"row_heading level0 row2\" >LD</th>\n",
       "                        <td id=\"T_997d9282_dcd4_11ea_b3c2_b268e6288d41row2_col0\" class=\"data row2 col0\" >23%</td>\n",
       "                        <td id=\"T_997d9282_dcd4_11ea_b3c2_b268e6288d41row2_col1\" class=\"data row2 col1\" >16%</td>\n",
       "                        <td id=\"T_997d9282_dcd4_11ea_b3c2_b268e6288d41row2_col2\" class=\"data row2 col2\" >11%</td>\n",
       "                        <td id=\"T_997d9282_dcd4_11ea_b3c2_b268e6288d41row2_col3\" class=\"data row2 col3\" >14%</td>\n",
       "                        <td id=\"T_997d9282_dcd4_11ea_b3c2_b268e6288d41row2_col4\" class=\"data row2 col4\" >11%</td>\n",
       "                        <td id=\"T_997d9282_dcd4_11ea_b3c2_b268e6288d41row2_col5\" class=\"data row2 col5\" >10%</td>\n",
       "                        <td id=\"T_997d9282_dcd4_11ea_b3c2_b268e6288d41row2_col6\" class=\"data row2 col6\" >15%</td>\n",
       "            </tr>\n",
       "            <tr>\n",
       "                        <th id=\"T_997d9282_dcd4_11ea_b3c2_b268e6288d41level0_row3\" class=\"row_heading level0 row3\" >Lab</th>\n",
       "                        <td id=\"T_997d9282_dcd4_11ea_b3c2_b268e6288d41row3_col0\" class=\"data row3 col0\" >33%</td>\n",
       "                        <td id=\"T_997d9282_dcd4_11ea_b3c2_b268e6288d41row3_col1\" class=\"data row3 col1\" >30%</td>\n",
       "                        <td id=\"T_997d9282_dcd4_11ea_b3c2_b268e6288d41row3_col2\" class=\"data row3 col2\" >41%</td>\n",
       "                        <td id=\"T_997d9282_dcd4_11ea_b3c2_b268e6288d41row3_col3\" class=\"data row3 col3\" >22%</td>\n",
       "                        <td id=\"T_997d9282_dcd4_11ea_b3c2_b268e6288d41row3_col4\" class=\"data row3 col4\" >39%</td>\n",
       "                        <td id=\"T_997d9282_dcd4_11ea_b3c2_b268e6288d41row3_col5\" class=\"data row3 col5\" >28%</td>\n",
       "                        <td id=\"T_997d9282_dcd4_11ea_b3c2_b268e6288d41row3_col6\" class=\"data row3 col6\" >32%</td>\n",
       "            </tr>\n",
       "            <tr>\n",
       "                        <th id=\"T_997d9282_dcd4_11ea_b3c2_b268e6288d41level0_row4\" class=\"row_heading level0 row4\" >UKIP</th>\n",
       "                        <td id=\"T_997d9282_dcd4_11ea_b3c2_b268e6288d41row4_col0\" class=\"data row4 col0\" >1%</td>\n",
       "                        <td id=\"T_997d9282_dcd4_11ea_b3c2_b268e6288d41row4_col1\" class=\"data row4 col1\" >2%</td>\n",
       "                        <td id=\"T_997d9282_dcd4_11ea_b3c2_b268e6288d41row4_col2\" class=\"data row4 col2\" >3%</td>\n",
       "                        <td id=\"T_997d9282_dcd4_11ea_b3c2_b268e6288d41row4_col3\" class=\"data row4 col3\" >19%</td>\n",
       "                        <td id=\"T_997d9282_dcd4_11ea_b3c2_b268e6288d41row4_col4\" class=\"data row4 col4\" >11%</td>\n",
       "                        <td id=\"T_997d9282_dcd4_11ea_b3c2_b268e6288d41row4_col5\" class=\"data row4 col5\" >11%</td>\n",
       "                        <td id=\"T_997d9282_dcd4_11ea_b3c2_b268e6288d41row4_col6\" class=\"data row4 col6\" >7%</td>\n",
       "            </tr>\n",
       "            <tr>\n",
       "                        <th id=\"T_997d9282_dcd4_11ea_b3c2_b268e6288d41level0_row5\" class=\"row_heading level0 row5\" >other</th>\n",
       "                        <td id=\"T_997d9282_dcd4_11ea_b3c2_b268e6288d41row5_col0\" class=\"data row5 col0\" >6%</td>\n",
       "                        <td id=\"T_997d9282_dcd4_11ea_b3c2_b268e6288d41row5_col1\" class=\"data row5 col1\" >8%</td>\n",
       "                        <td id=\"T_997d9282_dcd4_11ea_b3c2_b268e6288d41row5_col2\" class=\"data row5 col2\" >19%</td>\n",
       "                        <td id=\"T_997d9282_dcd4_11ea_b3c2_b268e6288d41row5_col3\" class=\"data row5 col3\" >8%</td>\n",
       "                        <td id=\"T_997d9282_dcd4_11ea_b3c2_b268e6288d41row5_col4\" class=\"data row5 col4\" >5%</td>\n",
       "                        <td id=\"T_997d9282_dcd4_11ea_b3c2_b268e6288d41row5_col5\" class=\"data row5 col5\" >6%</td>\n",
       "                        <td id=\"T_997d9282_dcd4_11ea_b3c2_b268e6288d41row5_col6\" class=\"data row5 col6\" >7%</td>\n",
       "            </tr>\n",
       "    </tbody></table>"
      ],
      "text/plain": [
       "<pandas.io.formats.style.Styler at 0x2c65bb4c548>"
      ]
     },
     "execution_count": 9,
     "metadata": {},
     "output_type": "execute_result"
    },
    {
     "name": "stdout",
     "output_type": "stream",
     "text": [
      "time: 53 ms\n"
     ]
    }
   ],
   "source": [
    "votes = pd.crosstab(df.party, df.year, df.votes, aggfunc=\"sum\")\n",
    "votes[\"total\"] = votes.sum(axis=1)\n",
    "d(\"vote share\")\n",
    "(votes/votes.sum(axis=0)).style.format(\"{:.0%}\")"
   ]
  },
  {
   "cell_type": "code",
   "execution_count": 10,
   "metadata": {
    "scrolled": true
   },
   "outputs": [
    {
     "name": "stderr",
     "output_type": "stream",
     "text": [
      "[cellevents:43:INFO]:starting (time=Aug-12 20:47 MainProcess)\n"
     ]
    },
    {
     "data": {
      "text/plain": [
       "'votes/candidate'"
      ]
     },
     "metadata": {},
     "output_type": "display_data"
    },
    {
     "data": {
      "text/html": [
       "<style  type=\"text/css\" >\n",
       "</style><table id=\"T_9a1a100a_dcd4_11ea_a435_b268e6288d41\" ><thead>    <tr>        <th class=\"index_name level0\" >year</th>        <th class=\"col_heading level0 col0\" >2010</th>        <th class=\"col_heading level0 col1\" >2011</th>        <th class=\"col_heading level0 col2\" >2012</th>        <th class=\"col_heading level0 col3\" >2013</th>        <th class=\"col_heading level0 col4\" >2014</th>        <th class=\"col_heading level0 col5\" >2015</th>        <th class=\"col_heading level0 col6\" >total</th>    </tr>    <tr>        <th class=\"index_name level0\" >party</th>        <th class=\"blank\" ></th>        <th class=\"blank\" ></th>        <th class=\"blank\" ></th>        <th class=\"blank\" ></th>        <th class=\"blank\" ></th>        <th class=\"blank\" ></th>        <th class=\"blank\" ></th>    </tr></thead><tbody>\n",
       "                <tr>\n",
       "                        <th id=\"T_9a1a100a_dcd4_11ea_a435_b268e6288d41level0_row0\" class=\"row_heading level0 row0\" >C</th>\n",
       "                        <td id=\"T_9a1a100a_dcd4_11ea_a435_b268e6288d41row0_col0\" class=\"data row0 col0\" >1,588</td>\n",
       "                        <td id=\"T_9a1a100a_dcd4_11ea_a435_b268e6288d41row0_col1\" class=\"data row0 col1\" >825</td>\n",
       "                        <td id=\"T_9a1a100a_dcd4_11ea_a435_b268e6288d41row0_col2\" class=\"data row0 col2\" >574</td>\n",
       "                        <td id=\"T_9a1a100a_dcd4_11ea_a435_b268e6288d41row0_col3\" class=\"data row0 col3\" >930</td>\n",
       "                        <td id=\"T_9a1a100a_dcd4_11ea_a435_b268e6288d41row0_col4\" class=\"data row0 col4\" >825</td>\n",
       "                        <td id=\"T_9a1a100a_dcd4_11ea_a435_b268e6288d41row0_col5\" class=\"data row0 col5\" >1,271</td>\n",
       "                        <td id=\"T_9a1a100a_dcd4_11ea_a435_b268e6288d41row0_col6\" class=\"data row0 col6\" >1,031</td>\n",
       "            </tr>\n",
       "            <tr>\n",
       "                        <th id=\"T_9a1a100a_dcd4_11ea_a435_b268e6288d41level0_row1\" class=\"row_heading level0 row1\" >Grn</th>\n",
       "                        <td id=\"T_9a1a100a_dcd4_11ea_a435_b268e6288d41row1_col0\" class=\"data row1 col0\" >416</td>\n",
       "                        <td id=\"T_9a1a100a_dcd4_11ea_a435_b268e6288d41row1_col1\" class=\"data row1 col1\" >340</td>\n",
       "                        <td id=\"T_9a1a100a_dcd4_11ea_a435_b268e6288d41row1_col2\" class=\"data row1 col2\" >255</td>\n",
       "                        <td id=\"T_9a1a100a_dcd4_11ea_a435_b268e6288d41row1_col3\" class=\"data row1 col3\" >242</td>\n",
       "                        <td id=\"T_9a1a100a_dcd4_11ea_a435_b268e6288d41row1_col4\" class=\"data row1 col4\" >386</td>\n",
       "                        <td id=\"T_9a1a100a_dcd4_11ea_a435_b268e6288d41row1_col5\" class=\"data row1 col5\" >445</td>\n",
       "                        <td id=\"T_9a1a100a_dcd4_11ea_a435_b268e6288d41row1_col6\" class=\"data row1 col6\" >379</td>\n",
       "            </tr>\n",
       "            <tr>\n",
       "                        <th id=\"T_9a1a100a_dcd4_11ea_a435_b268e6288d41level0_row2\" class=\"row_heading level0 row2\" >LD</th>\n",
       "                        <td id=\"T_9a1a100a_dcd4_11ea_a435_b268e6288d41row2_col0\" class=\"data row2 col0\" >1,313</td>\n",
       "                        <td id=\"T_9a1a100a_dcd4_11ea_a435_b268e6288d41row2_col1\" class=\"data row2 col1\" >517</td>\n",
       "                        <td id=\"T_9a1a100a_dcd4_11ea_a435_b268e6288d41row2_col2\" class=\"data row2 col2\" >410</td>\n",
       "                        <td id=\"T_9a1a100a_dcd4_11ea_a435_b268e6288d41row2_col3\" class=\"data row2 col3\" >486</td>\n",
       "                        <td id=\"T_9a1a100a_dcd4_11ea_a435_b268e6288d41row2_col4\" class=\"data row2 col4\" >457</td>\n",
       "                        <td id=\"T_9a1a100a_dcd4_11ea_a435_b268e6288d41row2_col5\" class=\"data row2 col5\" >669</td>\n",
       "                        <td id=\"T_9a1a100a_dcd4_11ea_a435_b268e6288d41row2_col6\" class=\"data row2 col6\" >662</td>\n",
       "            </tr>\n",
       "            <tr>\n",
       "                        <th id=\"T_9a1a100a_dcd4_11ea_a435_b268e6288d41level0_row3\" class=\"row_heading level0 row3\" >Lab</th>\n",
       "                        <td id=\"T_9a1a100a_dcd4_11ea_a435_b268e6288d41row3_col0\" class=\"data row3 col0\" >1,650</td>\n",
       "                        <td id=\"T_9a1a100a_dcd4_11ea_a435_b268e6288d41row3_col1\" class=\"data row3 col1\" >790</td>\n",
       "                        <td id=\"T_9a1a100a_dcd4_11ea_a435_b268e6288d41row3_col2\" class=\"data row3 col2\" >898</td>\n",
       "                        <td id=\"T_9a1a100a_dcd4_11ea_a435_b268e6288d41row3_col3\" class=\"data row3 col3\" >637</td>\n",
       "                        <td id=\"T_9a1a100a_dcd4_11ea_a435_b268e6288d41row3_col4\" class=\"data row3 col4\" >1,124</td>\n",
       "                        <td id=\"T_9a1a100a_dcd4_11ea_a435_b268e6288d41row3_col5\" class=\"data row3 col5\" >1,117</td>\n",
       "                        <td id=\"T_9a1a100a_dcd4_11ea_a435_b268e6288d41row3_col6\" class=\"data row3 col6\" >1,048</td>\n",
       "            </tr>\n",
       "            <tr>\n",
       "                        <th id=\"T_9a1a100a_dcd4_11ea_a435_b268e6288d41level0_row4\" class=\"row_heading level0 row4\" >UKIP</th>\n",
       "                        <td id=\"T_9a1a100a_dcd4_11ea_a435_b268e6288d41row4_col0\" class=\"data row4 col0\" >365</td>\n",
       "                        <td id=\"T_9a1a100a_dcd4_11ea_a435_b268e6288d41row4_col1\" class=\"data row4 col1\" >266</td>\n",
       "                        <td id=\"T_9a1a100a_dcd4_11ea_a435_b268e6288d41row4_col2\" class=\"data row4 col2\" >306</td>\n",
       "                        <td id=\"T_9a1a100a_dcd4_11ea_a435_b268e6288d41row4_col3\" class=\"data row4 col3\" >706</td>\n",
       "                        <td id=\"T_9a1a100a_dcd4_11ea_a435_b268e6288d41row4_col4\" class=\"data row4 col4\" >629</td>\n",
       "                        <td id=\"T_9a1a100a_dcd4_11ea_a435_b268e6288d41row4_col5\" class=\"data row4 col5\" >744</td>\n",
       "                        <td id=\"T_9a1a100a_dcd4_11ea_a435_b268e6288d41row4_col6\" class=\"data row4 col6\" >606</td>\n",
       "            </tr>\n",
       "            <tr>\n",
       "                        <th id=\"T_9a1a100a_dcd4_11ea_a435_b268e6288d41level0_row5\" class=\"row_heading level0 row5\" >other</th>\n",
       "                        <td id=\"T_9a1a100a_dcd4_11ea_a435_b268e6288d41row5_col0\" class=\"data row5 col0\" >549</td>\n",
       "                        <td id=\"T_9a1a100a_dcd4_11ea_a435_b268e6288d41row5_col1\" class=\"data row5 col1\" >437</td>\n",
       "                        <td id=\"T_9a1a100a_dcd4_11ea_a435_b268e6288d41row5_col2\" class=\"data row5 col2\" >431</td>\n",
       "                        <td id=\"T_9a1a100a_dcd4_11ea_a435_b268e6288d41row5_col3\" class=\"data row5 col3\" >385</td>\n",
       "                        <td id=\"T_9a1a100a_dcd4_11ea_a435_b268e6288d41row5_col4\" class=\"data row5 col4\" >347</td>\n",
       "                        <td id=\"T_9a1a100a_dcd4_11ea_a435_b268e6288d41row5_col5\" class=\"data row5 col5\" >538</td>\n",
       "                        <td id=\"T_9a1a100a_dcd4_11ea_a435_b268e6288d41row5_col6\" class=\"data row5 col6\" >458</td>\n",
       "            </tr>\n",
       "    </tbody></table>"
      ],
      "text/plain": [
       "<pandas.io.formats.style.Styler at 0x2c65bb09888>"
      ]
     },
     "execution_count": 10,
     "metadata": {},
     "output_type": "execute_result"
    },
    {
     "name": "stdout",
     "output_type": "stream",
     "text": [
      "time: 10 ms\n"
     ]
    }
   ],
   "source": [
    "d(\"votes/candidate\")\n",
    "(votes/cands).style.format(\"{:,.0f}\")"
   ]
  },
  {
   "cell_type": "code",
   "execution_count": 14,
   "metadata": {},
   "outputs": [
    {
     "name": "stderr",
     "output_type": "stream",
     "text": [
      "[cellevents:43:INFO]:starting (time=Aug-12 20:51 MainProcess)\n"
     ]
    },
    {
     "data": {
      "text/html": [
       "<div>\n",
       "<style scoped>\n",
       "    .dataframe tbody tr th:only-of-type {\n",
       "        vertical-align: middle;\n",
       "    }\n",
       "\n",
       "    .dataframe tbody tr th {\n",
       "        vertical-align: top;\n",
       "    }\n",
       "\n",
       "    .dataframe thead th {\n",
       "        text-align: right;\n",
       "    }\n",
       "</style>\n",
       "<table border=\"1\" class=\"dataframe\">\n",
       "  <thead>\n",
       "    <tr style=\"text-align: right;\">\n",
       "      <th></th>\n",
       "      <th>authority</th>\n",
       "      <th>wardname</th>\n",
       "      <th>year</th>\n",
       "      <th>party</th>\n",
       "      <th>votes</th>\n",
       "    </tr>\n",
       "  </thead>\n",
       "  <tbody>\n",
       "    <tr>\n",
       "      <th>1</th>\n",
       "      <td>Adur</td>\n",
       "      <td>Buckingham</td>\n",
       "      <td>2010</td>\n",
       "      <td>LD</td>\n",
       "      <td>828</td>\n",
       "    </tr>\n",
       "    <tr>\n",
       "      <th>4</th>\n",
       "      <td>Adur</td>\n",
       "      <td>Churchill</td>\n",
       "      <td>2010</td>\n",
       "      <td>LD</td>\n",
       "      <td>762</td>\n",
       "    </tr>\n",
       "    <tr>\n",
       "      <th>8</th>\n",
       "      <td>Adur</td>\n",
       "      <td>Cokeham</td>\n",
       "      <td>2010</td>\n",
       "      <td>LD</td>\n",
       "      <td>594</td>\n",
       "    </tr>\n",
       "    <tr>\n",
       "      <th>12</th>\n",
       "      <td>Adur</td>\n",
       "      <td>Eastbrook</td>\n",
       "      <td>2010</td>\n",
       "      <td>LD</td>\n",
       "      <td>711</td>\n",
       "    </tr>\n",
       "    <tr>\n",
       "      <th>18</th>\n",
       "      <td>Adur</td>\n",
       "      <td>Hillside</td>\n",
       "      <td>2010</td>\n",
       "      <td>LD</td>\n",
       "      <td>667</td>\n",
       "    </tr>\n",
       "    <tr>\n",
       "      <th>...</th>\n",
       "      <td>...</td>\n",
       "      <td>...</td>\n",
       "      <td>...</td>\n",
       "      <td>...</td>\n",
       "      <td>...</td>\n",
       "    </tr>\n",
       "    <tr>\n",
       "      <th>15981</th>\n",
       "      <td>Wyre Forest</td>\n",
       "      <td>Franche</td>\n",
       "      <td>2010</td>\n",
       "      <td>LD</td>\n",
       "      <td>446</td>\n",
       "    </tr>\n",
       "    <tr>\n",
       "      <th>15990</th>\n",
       "      <td>Wyre Forest</td>\n",
       "      <td>Habberley and Blakebrook</td>\n",
       "      <td>2010</td>\n",
       "      <td>LD</td>\n",
       "      <td>458</td>\n",
       "    </tr>\n",
       "    <tr>\n",
       "      <th>16004</th>\n",
       "      <td>Wyre Forest</td>\n",
       "      <td>Oldington and Foley Park</td>\n",
       "      <td>2010</td>\n",
       "      <td>LD</td>\n",
       "      <td>378</td>\n",
       "    </tr>\n",
       "    <tr>\n",
       "      <th>16007</th>\n",
       "      <td>Wyre Forest</td>\n",
       "      <td>Sutton Park</td>\n",
       "      <td>2010</td>\n",
       "      <td>LD</td>\n",
       "      <td>612</td>\n",
       "    </tr>\n",
       "    <tr>\n",
       "      <th>16014</th>\n",
       "      <td>Wyre Forest</td>\n",
       "      <td>Wribbenhall</td>\n",
       "      <td>2010</td>\n",
       "      <td>LD</td>\n",
       "      <td>365</td>\n",
       "    </tr>\n",
       "  </tbody>\n",
       "</table>\n",
       "<p>3494 rows × 5 columns</p>\n",
       "</div>"
      ],
      "text/plain": [
       "         authority                  wardname  year party  votes\n",
       "1             Adur                Buckingham  2010    LD    828\n",
       "4             Adur                 Churchill  2010    LD    762\n",
       "8             Adur                   Cokeham  2010    LD    594\n",
       "12            Adur                 Eastbrook  2010    LD    711\n",
       "18            Adur                  Hillside  2010    LD    667\n",
       "...            ...                       ...   ...   ...    ...\n",
       "15981  Wyre Forest                   Franche  2010    LD    446\n",
       "15990  Wyre Forest  Habberley and Blakebrook  2010    LD    458\n",
       "16004  Wyre Forest  Oldington and Foley Park  2010    LD    378\n",
       "16007  Wyre Forest               Sutton Park  2010    LD    612\n",
       "16014  Wyre Forest               Wribbenhall  2010    LD    365\n",
       "\n",
       "[3494 rows x 5 columns]"
      ]
     },
     "execution_count": 14,
     "metadata": {},
     "output_type": "execute_result"
    },
    {
     "name": "stdout",
     "output_type": "stream",
     "text": [
      "time: 29 ms\n"
     ]
    }
   ],
   "source": [
    "df[(df.year==2010) & (df.party==\"LD\")]"
   ]
  },
  {
   "cell_type": "code",
   "execution_count": 13,
   "metadata": {},
   "outputs": [
    {
     "name": "stderr",
     "output_type": "stream",
     "text": [
      "[cellevents:43:INFO]:starting (time=Aug-12 20:50 MainProcess)\n"
     ]
    },
    {
     "data": {
      "text/html": [
       "<div>\n",
       "<style scoped>\n",
       "    .dataframe tbody tr th:only-of-type {\n",
       "        vertical-align: middle;\n",
       "    }\n",
       "\n",
       "    .dataframe tbody tr th {\n",
       "        vertical-align: top;\n",
       "    }\n",
       "\n",
       "    .dataframe thead th {\n",
       "        text-align: right;\n",
       "    }\n",
       "</style>\n",
       "<table border=\"1\" class=\"dataframe\">\n",
       "  <thead>\n",
       "    <tr style=\"text-align: right;\">\n",
       "      <th></th>\n",
       "      <th>authority</th>\n",
       "      <th>wardname</th>\n",
       "      <th>year</th>\n",
       "      <th>party</th>\n",
       "      <th>votes</th>\n",
       "    </tr>\n",
       "  </thead>\n",
       "  <tbody>\n",
       "    <tr>\n",
       "      <th>26</th>\n",
       "      <td>Allerdale</td>\n",
       "      <td>Christchurch</td>\n",
       "      <td>2015</td>\n",
       "      <td>LD</td>\n",
       "      <td>193</td>\n",
       "    </tr>\n",
       "    <tr>\n",
       "      <th>32</th>\n",
       "      <td>Allerdale</td>\n",
       "      <td>Dalton</td>\n",
       "      <td>2015</td>\n",
       "      <td>LD</td>\n",
       "      <td>226</td>\n",
       "    </tr>\n",
       "    <tr>\n",
       "      <th>60</th>\n",
       "      <td>Allerdale</td>\n",
       "      <td>Harrington</td>\n",
       "      <td>2015</td>\n",
       "      <td>LD</td>\n",
       "      <td>176</td>\n",
       "    </tr>\n",
       "    <tr>\n",
       "      <th>69</th>\n",
       "      <td>Allerdale</td>\n",
       "      <td>Keswick</td>\n",
       "      <td>2015</td>\n",
       "      <td>LD</td>\n",
       "      <td>661</td>\n",
       "    </tr>\n",
       "    <tr>\n",
       "      <th>92</th>\n",
       "      <td>Allerdale</td>\n",
       "      <td>St Johns</td>\n",
       "      <td>2015</td>\n",
       "      <td>LD</td>\n",
       "      <td>425</td>\n",
       "    </tr>\n",
       "    <tr>\n",
       "      <th>...</th>\n",
       "      <td>...</td>\n",
       "      <td>...</td>\n",
       "      <td>...</td>\n",
       "      <td>...</td>\n",
       "      <td>...</td>\n",
       "    </tr>\n",
       "    <tr>\n",
       "      <th>30564</th>\n",
       "      <td>York</td>\n",
       "      <td>Strensall</td>\n",
       "      <td>2015</td>\n",
       "      <td>LD</td>\n",
       "      <td>775</td>\n",
       "    </tr>\n",
       "    <tr>\n",
       "      <th>30569</th>\n",
       "      <td>York</td>\n",
       "      <td>Westfield</td>\n",
       "      <td>2015</td>\n",
       "      <td>LD</td>\n",
       "      <td>2866</td>\n",
       "    </tr>\n",
       "    <tr>\n",
       "      <th>30570</th>\n",
       "      <td>York</td>\n",
       "      <td>Westfield</td>\n",
       "      <td>2015</td>\n",
       "      <td>LD</td>\n",
       "      <td>2369</td>\n",
       "    </tr>\n",
       "    <tr>\n",
       "      <th>30571</th>\n",
       "      <td>York</td>\n",
       "      <td>Westfield</td>\n",
       "      <td>2015</td>\n",
       "      <td>LD</td>\n",
       "      <td>2106</td>\n",
       "    </tr>\n",
       "    <tr>\n",
       "      <th>30584</th>\n",
       "      <td>York</td>\n",
       "      <td>Wheldrake</td>\n",
       "      <td>2015</td>\n",
       "      <td>LD</td>\n",
       "      <td>281</td>\n",
       "    </tr>\n",
       "  </tbody>\n",
       "</table>\n",
       "<p>4300 rows × 5 columns</p>\n",
       "</div>"
      ],
      "text/plain": [
       "       authority      wardname  year party  votes\n",
       "26     Allerdale  Christchurch  2015    LD    193\n",
       "32     Allerdale        Dalton  2015    LD    226\n",
       "60     Allerdale    Harrington  2015    LD    176\n",
       "69     Allerdale       Keswick  2015    LD    661\n",
       "92     Allerdale      St Johns  2015    LD    425\n",
       "...          ...           ...   ...   ...    ...\n",
       "30564       York     Strensall  2015    LD    775\n",
       "30569       York     Westfield  2015    LD   2866\n",
       "30570       York     Westfield  2015    LD   2369\n",
       "30571       York     Westfield  2015    LD   2106\n",
       "30584       York     Wheldrake  2015    LD    281\n",
       "\n",
       "[4300 rows x 5 columns]"
      ]
     },
     "execution_count": 13,
     "metadata": {},
     "output_type": "execute_result"
    },
    {
     "name": "stdout",
     "output_type": "stream",
     "text": [
      "time: 26 ms\n"
     ]
    }
   ],
   "source": [
    "df[(df.year==2015) & (df.party==\"LD\")] # 4300"
   ]
  },
  {
   "cell_type": "markdown",
   "metadata": {},
   "source": [
    "# ratio"
   ]
  },
  {
   "cell_type": "code",
   "execution_count": null,
   "metadata": {},
   "outputs": [],
   "source": [
    "# ratio by year\n",
    "df = allres.copy()\n",
    "df = pd.crosstab(\n",
    "    [df.authority, df.wardname, df.year], df.party, df.votes, aggfunc=\"sum\"\n",
    ").reset_index()\n",
    "df.columns.name = \"\"\n",
    "df = df.fillna(0)\n",
    "df[\"ratio\"] = df.LD / df.drop([\"LD\", \"year\"], axis=1).max(axis=1)\n",
    "df.ratio = df.ratio * 100"
   ]
  },
  {
   "cell_type": "code",
   "execution_count": null,
   "metadata": {},
   "outputs": [],
   "source": [
    "# by year\n",
    "byyear = pd.crosstab([df.authority, df.wardname], df.year, df.ratio, aggfunc=\"first\").reset_index()\n",
    "byyear[byyear.authority==\"Stratford-on-Avon\"]"
   ]
  }
 ],
 "metadata": {
  "jupytext": {
   "formats": "ipynb,py:light"
  },
  "kernelspec": {
   "display_name": "Python 3",
   "language": "python",
   "name": "python3"
  },
  "language_info": {
   "codemirror_mode": {
    "name": "ipython",
    "version": 3
   },
   "file_extension": ".py",
   "mimetype": "text/x-python",
   "name": "python",
   "nbconvert_exporter": "python",
   "pygments_lexer": "ipython3",
   "version": "3.7.6"
  }
 },
 "nbformat": 4,
 "nbformat_minor": 4
}
