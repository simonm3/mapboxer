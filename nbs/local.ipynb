{
 "cells": [
  {
   "cell_type": "code",
   "execution_count": null,
   "metadata": {},
   "outputs": [],
   "source": [
    "from ipstartup import *\n",
    "import geopandas as gpd\n",
    "import plotly.express as px\n",
    "from mapboxer.elections import get, clean, show\n",
    "from mapboxer.utils import iframe "
   ]
  },
  {
   "cell_type": "code",
   "execution_count": null,
   "metadata": {},
   "outputs": [],
   "source": [
    "const, constcentres = clean.ge(2010)"
   ]
  },
  {
   "cell_type": "code",
   "execution_count": null,
   "metadata": {},
   "outputs": [],
   "source": [
    "year = 2017\n",
    "wards, wardcentres = clean.local(year)\n",
    "m = show.get_map(wards, wardcentres, const, constcentres, \"party\")\n",
    "m.title = f\"Local election {year}\"\n",
    "iframe(m.html())"
   ]
  },
  {
   "cell_type": "code",
   "execution_count": null,
   "metadata": {},
   "outputs": [],
   "source": [
    "m.save(f\"local{year}.html\")"
   ]
  },
  {
   "cell_type": "code",
   "execution_count": null,
   "metadata": {},
   "outputs": [],
   "source": [
    "for year in tqdm(range(2011, 2020)):\n",
    "    wards, wardcentres = clean.local(year)\n",
    "    m = show.get_map(wards, wardcentres, const, constcentres, \"party\")\n",
    "    m.title = f\"Local election {year}\"\n",
    "    m.save(f\"local{year}.html\")"
   ]
  },
  {
   "cell_type": "code",
   "execution_count": null,
   "metadata": {},
   "outputs": [],
   "source": []
  }
 ],
 "metadata": {
  "jupytext": {
   "formats": "ipynb,py:light"
  },
  "kernelspec": {
   "display_name": "Python 3",
   "language": "python",
   "name": "python3"
  },
  "language_info": {
   "codemirror_mode": {
    "name": "ipython",
    "version": 3
   },
   "file_extension": ".py",
   "mimetype": "text/x-python",
   "name": "python",
   "nbconvert_exporter": "python",
   "pygments_lexer": "ipython3",
   "version": "3.7.6"
  }
 },
 "nbformat": 4,
 "nbformat_minor": 4
}
